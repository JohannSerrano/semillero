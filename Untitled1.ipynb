{
  "nbformat": 4,
  "nbformat_minor": 0,
  "metadata": {
    "colab": {
      "provenance": [],
      "authorship_tag": "ABX9TyM8Ifsuvy+QWIOY7IWjsWwJ",
      "include_colab_link": true
    },
    "kernelspec": {
      "name": "python3",
      "display_name": "Python 3"
    },
    "language_info": {
      "name": "python"
    }
  },
  "cells": [
    {
      "cell_type": "markdown",
      "metadata": {
        "id": "view-in-github",
        "colab_type": "text"
      },
      "source": [
        "<a href=\"https://colab.research.google.com/github/JohannSerrano/semillero/blob/main/Untitled1.ipynb\" target=\"_parent\"><img src=\"https://colab.research.google.com/assets/colab-badge.svg\" alt=\"Open In Colab\"/></a>"
      ]
    },
    {
      "cell_type": "markdown",
      "source": [
        "Explicacion 1"
      ],
      "metadata": {
        "id": "cyIfFZVB4XC9"
      }
    },
    {
      "cell_type": "code",
      "execution_count": 8,
      "metadata": {
        "colab": {
          "base_uri": "https://localhost:8080/"
        },
        "id": "EsqDsMt23ikM",
        "outputId": "2717b331-377e-481a-cfd3-1dbb0e7e3660"
      },
      "outputs": [
        {
          "output_type": "stream",
          "name": "stdout",
          "text": [
            "Karen\n"
          ]
        }
      ],
      "source": [
        "A = \"Karen\"\n",
        "print (A)"
      ]
    },
    {
      "cell_type": "markdown",
      "source": [
        "Suma"
      ],
      "metadata": {
        "id": "-7SXG1fN5lHO"
      }
    },
    {
      "cell_type": "code",
      "source": [
        "A = 20\n",
        "B = 20\n",
        "\n",
        "x = A + B\n",
        "print (x)"
      ],
      "metadata": {
        "colab": {
          "base_uri": "https://localhost:8080/"
        },
        "id": "BANODseb5Vg9",
        "outputId": "c8e38695-a374-4c0e-f321-b0da94679330"
      },
      "execution_count": 9,
      "outputs": [
        {
          "output_type": "stream",
          "name": "stdout",
          "text": [
            "40\n"
          ]
        }
      ]
    },
    {
      "cell_type": "markdown",
      "source": [
        "Colocar Mayusculas"
      ],
      "metadata": {
        "id": "yVjWzLPM7xts"
      }
    },
    {
      "cell_type": "code",
      "source": [
        "#Variable de un nombre\n",
        "A = \"Juan\"\n",
        "#variable de saludo en minuscula\n",
        "B = \"hola\"\n",
        "#imprimimos el valor\n",
        "print (\"primer valor: \", B)\n",
        "#realizamos funcion de mayusculas\n",
        "b = B.upper()\n",
        "#imprimimos el resto\n",
        "print (\"segundo valor despues de la funcion: \", b)\n",
        "print (A)\n",
        "\n",
        "Tienda_Uno = \"Metro\"\n",
        "tinedaUno = \"Exito\""
      ],
      "metadata": {
        "colab": {
          "base_uri": "https://localhost:8080/"
        },
        "id": "5nj-Fi846Uq0",
        "outputId": "4424e0c5-2070-4301-a29f-b5c32314d335"
      },
      "execution_count": 16,
      "outputs": [
        {
          "output_type": "stream",
          "name": "stdout",
          "text": [
            "primer valor:  hola\n",
            "segundo valor despues de la funcion:  HOLA\n",
            "Juan\n"
          ]
        }
      ]
    },
    {
      "cell_type": "code",
      "source": [
        "myInteger = 3\n",
        "myNegativeInteger = 6\n",
        "x = myInteger/myNegativeInteger\n",
        "print(x)"
      ],
      "metadata": {
        "colab": {
          "base_uri": "https://localhost:8080/"
        },
        "id": "w8u3HNsuCBkd",
        "outputId": "82d7251d-5790-4349-8cb1-3e8a139e8df2"
      },
      "execution_count": 19,
      "outputs": [
        {
          "output_type": "stream",
          "name": "stdout",
          "text": [
            "0.5\n"
          ]
        }
      ]
    },
    {
      "cell_type": "code",
      "source": [
        "A = \"Juan\"\n",
        "A = 5\n",
        "B = 8\n",
        "x = A + B\n",
        "print(x)"
      ],
      "metadata": {
        "colab": {
          "base_uri": "https://localhost:8080/"
        },
        "id": "Sq7hQhKWEVyE",
        "outputId": "665810e7-cf90-4019-a494-c53b81da67c5"
      },
      "execution_count": 22,
      "outputs": [
        {
          "output_type": "stream",
          "name": "stdout",
          "text": [
            "13\n"
          ]
        }
      ]
    }
  ]
}